{
 "cells": [
  {
   "cell_type": "markdown",
   "metadata": {},
   "source": [
    "# What do t-tests and their p-values mean?\n",
    "\n",
    "One of the hardest, yet most important parts of math and science is statistics. And one of the most used (and mis-interpreted) parts of statistics is the t-test, which is often used to generate our well-known p-value. I have seen many different definitions for the p-value depending on the literature, like:\n",
    "\n",
    "* The probability of rejecting the null hypothesys given that the null is true,\n",
    "* The probability of observing an effect as extreme as the observed one given that initial assumptions are true,\n",
    "\n",
    "and some variations of that. However, the underlying processes of t-tests and p-values are seldom understood.\n",
    "\n",
    "In this post, I want to share my thoughts on **what do t-tests and their corresponding p-values really mean**, so that we can stop misinterpreting p-values or unintentionally doing p-value hacking.\n",
    "\n",
    "It took me around two decades of academic life to come to terms with what that definition should be. It took me so long for many reasons: the mathematics behind the t-test are far from trivial, software packages nowadays are very easy to use, and p-values are simply widely accepted as basis for statements like \"results were significantly improved from the baseline\". I would be so happy if it didn't take you that long to realize some things that are more scary (because maths...) than actually complicated."
   ]
  },
  {
   "cell_type": "code",
   "execution_count": 1,
   "metadata": {},
   "outputs": [],
   "source": [
    "import scipy.stats as stats\n",
    "import numpy as np\n",
    "import matplotlib.pyplot as plt\n",
    "plt.style.use('default')"
   ]
  },
  {
   "cell_type": "markdown",
   "metadata": {},
   "source": [
    "# Central Limit Theorem: T-Test's older sibling\n",
    "\n",
    "Our story here begin with the Central Limit Theorem (CLT). The scenario underlying the CLT is that we have samples of size $n$ which are drawn from an unknown distribution, and we want to understand more about the distribution. The CLT specifically refers to the relationship between $\\mu$, which is the population mean for the distribution, and $\\bar{X}$, which is the sample mean (which we measure!).\n",
    "\n",
    "The CLT assumes that samples $X$ were drawn from a distribution with mean $\\mu$ and variance $\\sigma ^2$ (if you prefer: standard deviation $\\sigma$). The original distribution that generated samples $X$ does not have to be normal or of any other specific shape. If our sample has $n$ elements, then we can calculate the sample mean $\\bar{X}$ as:\n",
    "\n",
    "$$\n",
    "\\bar{X} = \\frac{\\sum_{j=1}^n X_j}{n}\n",
    "$$\n",
    "\n",
    "We can expect the sample mean $\\bar{X}$ to be close to the population mean $\\mu$ (remember: $\\mu$ comes from the distribution!). The CLT can help us understand how close these two quantities are! According to the CLT, $\\bar{X}$ behaves as it were drawn from a normal distribution with mean $\\mu$ and variance $\\frac{\\sigma ^2}{n}$, or:\n",
    "\n",
    "$$\n",
    "\\bar{X} \\sim N(\\mu, \\sigma^2/n)\n",
    "$$\n",
    "\n",
    "This equation means that samples with higher $n$ are likely to have a sample mean closer to the population mean.\n",
    "\n",
    "But, how can we use this result?\n",
    "\n",
    "# Using the Central Limt Theorem to reject a null hypothesis\n",
    "\n",
    "Let's suppose that a bakery says their cupcakes weight, on average, 100g, with a standard deviation of 10g. This standard deviation accounts for the fact that cupcakes are made by hand. However, even handmade cupcakes have to follow food regulations rules, so we are hired to check if the cupcakes are following that specification. What do we do? We randomly select some cupcakes, creating a *sample*. Suppose we are running our test with $n=10$ cupcakes.\n",
    "\n",
    "After some time in the laboratory, we find that our sample mean is 105g, which is within one standard deviation from the expected mean.\n",
    "\n",
    "Now we ask ourselves: what are the chances that, if the specifications are followed, we observe a sample mean that is at least as high as the one we observed?\n",
    "\n",
    "Because we know, from the CLT, that $\\bar{X} \\sim N(\\mu, \\sigma^2/n)$, we can calculate this probability using the cumulative distribution function of a normal, as in:"
   ]
  },
  {
   "cell_type": "code",
   "execution_count": 2,
   "metadata": {},
   "outputs": [
    {
     "name": "stdout",
     "output_type": "stream",
     "text": [
      "0.0126736593387341\n"
     ]
    }
   ],
   "source": [
    "mu = 100\n",
    "sigma = 10\n",
    "n = 20\n",
    "xbar = 105\n",
    "sigma_xbar = sigma / np.sqrt(n)\n",
    "p = 1-stats.norm.cdf(xbar, loc=mu, scale=sigma_xbar)\n",
    "print(p)"
   ]
  },
  {
   "cell_type": "markdown",
   "metadata": {},
   "source": [
    "Now we have something to interpret:\n",
    "\n",
    "* We observed $\\bar{X}$.\n",
    "* Bakery says their cupcakes' weights follow a specific distribution\n",
    "* If what the bakery says is true, the probability of observing that specific $\\bar{X}$ is around $\\times 10^-2$\n",
    "\n",
    "Something is odd here.\n",
    "\n",
    "Either we screwed up the measurements, or the bakery is wrong about their cupcakes' weight distribution.\n",
    "\n",
    "Because I am very skilled in weighting cupcakes, I will go with the latter: the weights likely do not have mean 100g and standard deviation 10g.\n",
    "\n",
    "# Using a standard normal\n",
    "\n",
    "We don't need to use a scale and translated version of the Normal distribution to calculate its values. Instead, we can scale and translate our measurements and then use a distribution $N(0,1)$ as a model. For such, we will need to calculate the standardized variable $Z$ as:\n",
    "\n",
    "$$\n",
    "Z = \\frac{ \\bar{X}-\\mu}{\\sigma / \\sqrt{N}}\n",
    "$$\n",
    "\n",
    "Our code would now look like:\n"
   ]
  },
  {
   "cell_type": "code",
   "execution_count": 3,
   "metadata": {},
   "outputs": [
    {
     "name": "stdout",
     "output_type": "stream",
     "text": [
      "2.23606797749979 0.0126736593387341 0.0126736593387341\n"
     ]
    }
   ],
   "source": [
    "mu = 100\n",
    "sigma = 10\n",
    "n = 20\n",
    "xbar = 105\n",
    "sigma_xbar = sigma / np.sqrt(n)\n",
    "Z = (xbar-mu)/sigma_xbar\n",
    "p = 1-stats.norm.cdf(Z, loc=0, scale=1)\n",
    "p_ = 1-stats.norm.cdf(xbar, loc=mu, scale=sigma_xbar) # Reference so everyone can see we are not crazy\n",
    "print(Z, p, p_)"
   ]
  },
  {
   "cell_type": "markdown",
   "metadata": {},
   "source": [
    "We have exactly the same results (which means math still works). But why should we do this? It feels much easier to use the `loc` and `scale` parameters!\n",
    "\n",
    "It is fair to say that it is more intuitive to use Python's automatic shift and scale, because they keep us using real-world measurements: $\\mu$ and $\\bar{X}$ still represent \"cupcake weight\", that is, we can immediately interpret that.\n",
    "\n",
    "However, the standardized variable $Z$ shows us information in a scale of deviations: a difference of $1$ in $Z$ means one standard deviation. This allows us to immediately evaluate if samples are too far away from expected values. In our cupcake case, this could have little added utility, but in multivariate cases it allows us to visualize which variables have a higher deviation from the mean.\n",
    "\n",
    "In summary, the standardization leads to a closer dialogue with statistics theory, at the expense of losing the variable's original meaning. The standardization equation builds a bridge between these two worlds, and for this reason it is important to understand it.\n",
    "\n",
    "In fact, Scipy uses the standardization in the \"backend\", using the `loc` and `scale` parameters provided by the user (that is, it shifts and scales the variables and then calculate statistics using the standard distributions)."
   ]
  },
  {
   "cell_type": "markdown",
   "metadata": {},
   "source": [
    "\n",
    "\n",
    "\n",
    "# Null Hypothesis and the p-value\n",
    "\n",
    "What happened here is that we had an initial hypothesis (the weights follow that specific distribution) and we gathered data that allowed us to state: if that is true, then there is a very small probability of observing our data. Consequently, we should reject - or nullify - this initial hypothesis. This is why this initial hypothesis is called *null hypothesis*.\n",
    "\n",
    "Also, we have a probability of rejecting the null hypothesis (in our case: the probability of rejecting the hypothesis that the bakery is correct in the cupcake specification) which is calculated under the assumption that the null hypothesis holds. This is our $\\times 10^-2$ probability calculated above. Because we don't want to say \"the probability of rejecting the null hypothesis calculated under the assumption that the null hypothesis holds\" every time, we are going to call this a *p-value*.\n",
    "\n",
    "# P-value: a pitfall when there are too many observations\n",
    "\n",
    "Now, let's take a look at what happens when we change the number of observations:"
   ]
  },
  {
   "cell_type": "code",
   "execution_count": 4,
   "metadata": {},
   "outputs": [
    {
     "data": {
      "image/png": "[encoded data removed]",
      "text/plain": [
       "<Figure size 600x200 with 1 Axes>"
      ]
     },
     "metadata": {},
     "output_type": "display_data"
    }
   ],
   "source": [
    "mu = 100\n",
    "sigma = 10\n",
    "n_ = range(3, 40)\n",
    "xbar = 105\n",
    "p_ = []\n",
    "for n in n_:\n",
    "    sigma_xbar = sigma / np.sqrt(n)\n",
    "    p = 1-stats.norm.cdf(xbar, loc=mu, scale=sigma_xbar)\n",
    "    p_.append(p)\n",
    "\n",
    "plt.figure(figsize=(6,2))\n",
    "plt.plot(n_, p_)\n",
    "plt.xlabel(\"Number of observations\")\n",
    "plt.ylabel(\"p\")\n",
    "plt.title(\"p-value decreases when $n$ increases\")\n",
    "plt.semilogy()\n",
    "plt.show()"
   ]
  },
  {
   "cell_type": "markdown",
   "metadata": {},
   "source": [
    "Try to change values for `sigma` and `xbar`, and see that we find the same behavior.\n",
    "\n",
    "When we have more observations in our sample, the p-value decreases. This is because the variance of the distribution of our sample mean is inversely proportional to the number of observations. Under this light, let's review our cupcake experiment.\n",
    "\n",
    "We originally said: *because our p-value is very small, we reject the hypothesis that the cupcake weights follow some distribution with mean 100g and standard deviation 10g.*\n",
    "\n",
    "The problem here is that we could have chosen any number of cupcakes to build our sample. And, as we observed above, with a large enough $n$, we can get a very small p-value regardless of the actual difference between the claimed population mean $\\mu$ and the observed sample mean $\\bar{X}$.\n",
    "\n",
    "Actually, we could find a value of $n$ that allows us to get a p-value of $0.01$ even if our sample mean was just a negligible 0.1g above our claimed mean of 100g:\n"
   ]
  },
  {
   "cell_type": "code",
   "execution_count": 5,
   "metadata": {},
   "outputs": [
    {
     "name": "stdout",
     "output_type": "stream",
     "text": [
      "54119 0.009999968099338896\n"
     ]
    }
   ],
   "source": [
    "mu = 100\n",
    "sigma = 10\n",
    "xbar = 100.1\n",
    "p = 1 # initial value\n",
    "n = 3 # initial value\n",
    "while p > 0.01:\n",
    "    n = n+1\n",
    "    sigma_xbar = sigma / np.sqrt(n)\n",
    "    p = 1-stats.norm.cdf(xbar, loc=mu, scale=sigma_xbar)\n",
    "\n",
    "print(n, p)"
   ]
  },
  {
   "cell_type": "markdown",
   "metadata": {},
   "source": [
    "This is especially relevant when you are dealing with larger samples and big data, because samples can quickly reach this size. If the p-values are used naively, null hypotheses will be rejected and \"outperforming the previous approach\" will be claimed too often with a negligible effect. So, we might want to consider effect sizes as a further analysis. There is a whole theory on effect sizes, and I will probably get back to that in a future post, but if your field does not use any analysis of this sort then using the difference between the theoretical and the measured means (or: $|| \\mu - \\bar{X} ||$) might suffice.\n",
    "\n",
    "For now, we will focus on a different case: when the population variance is unknown.\n",
    "\n",
    "# The T-student distribution\n",
    "\n",
    "The CLT, which is the base for all our deduction here, can only be used if we know the true population variance $\\sigma^2$. This is usually not the case, as it is hard to find some situation is which we don't known the mean, but we know the variance of our population. If we don't know $\\sigma^2$, we can estimate the sample variance $S^2$ and use it instead to standardize our input:\n",
    "\n",
    "$$\n",
    "T = \\frac{ \\bar{X}-\\mu}{S / \\sqrt{N}}\n",
    "$$\n",
    "\n",
    "\n",
    "Although $\\bar{X}$, due to the CLT, follows a normal distribution, the sample variance $S^2$ is also a random variable. For this reason, $T$ does not follow a normal distribution. Instead, it follows a T-student distribution, which accounts for the uncertainty in $S$ by having longer tails."
   ]
  },
  {
   "cell_type": "markdown",
   "metadata": {},
   "source": [
    "\n",
    "\n",
    "The T-student distribution is similar to the normal regarding its simmetry, but is has greater values in the long tails. The T-student distribution depends on a parameter called *degrees of freedom* that corresponds, in our case, to the total number of samples minus the number of sample mean estimates in our experiment. For the cupcake scenario discussed above, we have one sample mean estimate.\n",
    "\n"
   ]
  },
  {
   "cell_type": "code",
   "execution_count": 6,
   "metadata": {},
   "outputs": [
    {
     "data": {
      "image/png": "[encoded data removed]",
      "text/plain": [
       "<Figure size 500x200 with 1 Axes>"
      ]
     },
     "metadata": {},
     "output_type": "display_data"
    }
   ],
   "source": [
    "x = np.linspace(-3,3,500)\n",
    "plt.figure(figsize=(5,2))\n",
    "plt.plot(x, stats.norm.pdf(x), label='Normal')\n",
    "plt.plot(x, stats.t.pdf(x, df=3), label='T-student, df=3')\n",
    "plt.plot(x, stats.t.pdf(x, df=10), label='T-student, df=10')\n",
    "plt.legend()\n",
    "plt.show()"
   ]
  },
  {
   "cell_type": "markdown",
   "metadata": {},
   "source": [
    "As we can see, the T-student distribution has longer tails than the normal, which account for its uncertainty. Also, when we increase the number of degrees of freedom, the T-Student distribution slowly converges to the normal."
   ]
  },
  {
   "cell_type": "markdown",
   "metadata": {},
   "source": [
    "# P-values using the T-Student distribution\n",
    "\n",
    "Henceforth, if we didn't know $\\sigma^2$ beforehand, we would calculate our p-value as:"
   ]
  },
  {
   "cell_type": "code",
   "execution_count": 7,
   "metadata": {},
   "outputs": [
    {
     "name": "stdout",
     "output_type": "stream",
     "text": [
      "0.08125674987566645\n"
     ]
    }
   ],
   "source": [
    "n = 20\n",
    "mu = 100\n",
    "sigma = 10\n",
    "sample_cupcakes = stats.norm.rvs(size=n, loc=105, scale=sigma, random_state=1)\n",
    "\n",
    "sigma_est = np.std(sample_cupcakes, ddof=1)\n",
    "xbar = np.mean(sample_cupcakes)\n",
    "\n",
    "sigma_xbar = sigma_est / np.sqrt(n)\n",
    "p = 1-stats.t.cdf(xbar, loc=mu, scale=sigma_xbar, df=n-1)\n",
    "print(p)"
   ]
  },
  {
   "cell_type": "markdown",
   "metadata": {},
   "source": [
    "Note that now we don't use the \"true\" sigma in our calculations. Rather, even if we used it to generate samples, we used the sample standard deviation to proceed to our calculations.\n",
    "\n",
    "# The one-sample t-test\n",
    "\n",
    "What we just did is a one-sample t-test. We estimated our p-value using the cumulative distribution function of the t distribution, instead of the normal. This change was because the uncertainty in our sample variance estimator makes it necessary to use a t-student distribution.\n",
    "\n",
    "Of course, because the one-sample t-test is performed many, many times, it comes bundled as part of our `scipy.stats` package:"
   ]
  },
  {
   "cell_type": "code",
   "execution_count": 8,
   "metadata": {},
   "outputs": [
    {
     "data": {
      "text/plain": [
       "Ttest_1sampResult(statistic=1.4530992590921659, pvalue=0.08125674987566646)"
      ]
     },
     "execution_count": 8,
     "metadata": {},
     "output_type": "execute_result"
    }
   ],
   "source": [
    "stats.ttest_1samp(sample_cupcakes, popmean=mu, alternative='greater')"
   ]
  },
  {
   "cell_type": "markdown",
   "metadata": {},
   "source": [
    "We can already see that the p-value matches our estimation above, but what do each of these other parameters mean?\n",
    "\n",
    "# P-Values using the T-Statistic\n",
    "\n",
    "The Student-T distribution is mathematically as centered in zero, similarly to the standard normal distribution. Although the scipy implementation kindly allows us to shift and scale our inputs in the backend, using de `loc` and `scale` parameters, this could lead to the false impression that $\\bar{X}$ follows a T distribution. It does not!!! Rather, the T statistic (that is, the standardization of $\\bar{X} using the sample variance $S^2$) is the one that follows the T distribution. \n",
    "\n",
    "We can avoid this confusion by standardizing our samples ourselves to obtain the same results as above:"
   ]
  },
  {
   "cell_type": "code",
   "execution_count": 9,
   "metadata": {},
   "outputs": [
    {
     "name": "stdout",
     "output_type": "stream",
     "text": [
      "0.08125674987566645 1.4530992590921659 0.08125674987566645\n"
     ]
    }
   ],
   "source": [
    "# What we did so far: use python's loc and scale parameters to\n",
    "# implicitly standardize our input\n",
    "p1 = 1-stats.t.cdf(xbar, loc=mu, scale=sigma_xbar, df=n-1)\n",
    "\n",
    "# What is usually done: explicitly standardize our input\n",
    "t_statistic = (xbar-mu) / sigma_xbar\n",
    "p2 = 1-stats.t.cdf(t_statistic, df=n-1)\n",
    "\n",
    "print(p1, t_statistic, p2)"
   ]
  },
  {
   "cell_type": "markdown",
   "metadata": {},
   "source": [
    "# The Alternative Hypothesis (and refinements to the Null Hypothesis)\n",
    "\n",
    "In our function call, we had the parameter: `alternative='greater'`. The alternative hypothesis is the negation, or the complement, of the null hypothesis. In our cupcake scenario, we simply assumed that we wanted to calculate the probability that our sample mean is at least as high as the one we got.\n",
    "\n",
    "However, it could be the case that we wanted the probability that the sample mean is at least as far from the population mean as we have. In this case, we would need to \"reflect\" $\\bar{x}$ around $\\mu$ and then calculate the area in both \"tails\". This is called a two-tailed test, and, because of the symmetry in the t-distribution, it gives a value twice as large as the one-tailed test:"
   ]
  },
  {
   "cell_type": "code",
   "execution_count": 10,
   "metadata": {},
   "outputs": [
    {
     "name": "stdout",
     "output_type": "stream",
     "text": [
      "0.1625134997513329\n",
      "Ttest_1sampResult(statistic=1.4530992590921659, pvalue=0.16251349975133292)\n"
     ]
    }
   ],
   "source": [
    "p = 2 * (1-stats.t.cdf(xbar, loc=mu, scale=sigma_xbar, df=n-1))\n",
    "print(p)\n",
    "print(stats.ttest_1samp(sample_cupcakes, popmean=mu, alternative='two-sided'))"
   ]
  },
  {
   "cell_type": "markdown",
   "metadata": {},
   "source": [
    "All right.\n",
    "\n",
    "So far, we have a test for when we know the mean and variance of the population. We also have the t-test for when we know the mean, but not the variance of the population. But, in real life, we often simply have two groups - say, group A and group B - being measured, and we have no hypothesys on their means or variances. This gives rise to...\n",
    "\n",
    "# The two-sample t-test\n",
    "\n",
    "Although we could leave the cupcakes behind, this would make me so sad. In this example, we are going to use two bakeries (A and B), and all we have are some cupcake samples from each one of them. Can we safely say that their cupcakes' weights, on average, are not the same?\n",
    "\n",
    "For this, let's start by generating some samples for each bakery, and calculate sample statistics for each one:"
   ]
  },
  {
   "cell_type": "code",
   "execution_count": 46,
   "metadata": {},
   "outputs": [],
   "source": [
    "nA = 10\n",
    "nB = 10\n",
    "samplesA = stats.norm.rvs(size=nA, loc=90, scale=10)\n",
    "samplesB = stats.norm.rvs(size=nB, loc=100, scale=10)\n",
    "\n",
    "xbarA = np.mean(samplesA)\n",
    "xbarB = np.mean(samplesB)\n",
    "sigmaA = np.std(samplesA, ddof=1)/np.sqrt(nA)\n",
    "sigmaB = np.std(samplesB, ddof=1)/np.sqrt(nB)"
   ]
  },
  {
   "cell_type": "markdown",
   "metadata": {},
   "source": [
    "Although we don't know the real means of the distributions, we know that, if they have the same means, then the mean of their differences should be zero. Remeber that when we subtract two independent random variables we obtain a third random variable whose mean is the subtraction of the original means, and whose variance is the **sum** of the original variances!\n",
    "\n",
    "Hence, what we are going to do is:\n",
    "1. Assume there is no difference between the means of the samples,\n",
    "2. Estimate values for the mean and standard deviation of C=A-B,\n",
    "3. Calculate the probability of finding a difference as large as we have found assuming that the mean of C ($\\mu_c$) is zero\n"
   ]
  },
  {
   "cell_type": "code",
   "execution_count": 50,
   "metadata": {},
   "outputs": [
    {
     "name": "stdout",
     "output_type": "stream",
     "text": [
      "-1.0676048932502877 0.29980876583804517\n"
     ]
    }
   ],
   "source": [
    "xbarC = xbarA-xbarB\n",
    "sigmaC = np.sqrt( (sigmaA**2) + (sigmaB**2) )\n",
    "#print(sigmaA, sigmaB, sigmaC)\n",
    "\n",
    "t = xbarC/sigmaC\n",
    "p = stats.t.cdf(t, df=nA+nB-2)*2\n",
    "print(t, p)"
   ]
  },
  {
   "cell_type": "markdown",
   "metadata": {},
   "source": [
    "Note that we now have `nA+nB-2` degrees of freedom in the t distribution. This is a special case of the estimation of degrees of freedom using the [Welch-Satterthwaite equation](https://en.wikipedia.org/wiki/Welch%E2%80%93Satterthwaite_equation) when $nA=nB$. This is a more complicated issue and I plan on devoting another blog post to discuss degrees of freedom.\n",
    "\n",
    "Like the one-sample T-Test, there is also a ready-made function for the two-sample T-Test:"
   ]
  },
  {
   "cell_type": "code",
   "execution_count": 48,
   "metadata": {},
   "outputs": [
    {
     "data": {
      "text/plain": [
       "Ttest_indResult(statistic=-1.0676048932502877, pvalue=0.29980876583804517)"
      ]
     },
     "execution_count": 48,
     "metadata": {},
     "output_type": "execute_result"
    }
   ],
   "source": [
    "stats.ttest_ind(samplesA, samplesB) # Did I just read a whole blog post only to copy this one line!??"
   ]
  },
  {
   "cell_type": "markdown",
   "metadata": {},
   "source": [
    "And, if you know the sample means and standard deviations, you can use `ttest_ind_from_stats`, which yields the same value:"
   ]
  },
  {
   "cell_type": "code",
   "execution_count": 49,
   "metadata": {},
   "outputs": [
    {
     "data": {
      "text/plain": [
       "Ttest_indResult(statistic=-1.0676048932502877, pvalue=0.29980876583804517)"
      ]
     },
     "execution_count": 49,
     "metadata": {},
     "output_type": "execute_result"
    }
   ],
   "source": [
    "stats.ttest_ind_from_stats(mean1=xbarA, mean2=xbarB, std1=np.std(samplesA, ddof=1), std2=np.std(samplesB, ddof=1), nobs1=len(samplesA), nobs2=len(samplesB)) # Did I just read a whole blog post only to copy this one line!??"
   ]
  },
  {
   "cell_type": "markdown",
   "metadata": {},
   "source": [
    "We could also scale our student-t distribution instead of our mean, and get the same result:"
   ]
  },
  {
   "cell_type": "code",
   "execution_count": 51,
   "metadata": {},
   "outputs": [
    {
     "name": "stdout",
     "output_type": "stream",
     "text": [
      "-1.0676048932502877 0.29980876583804517\n",
      "0.29980876583804517\n"
     ]
    }
   ],
   "source": [
    "xbarC = xbarA-xbarB\n",
    "sigmaC = np.sqrt( (sigmaA**2) + (sigmaB**2) )\n",
    "\n",
    "# Use the t-statistic means shifting and scaling the samples\n",
    "t = xbarC/sigmaC\n",
    "p = stats.t.cdf(t, df=nA+nB-2)*2\n",
    "print(t, p)\n",
    "\n",
    "# Or, we could shift and scale the distribution:\n",
    "p = stats.t.cdf(xbarA, loc=xbarB, scale=sigmaC, df=nA+nB-2)*2\n",
    "print(p)"
   ]
  },
  {
   "cell_type": "markdown",
   "metadata": {},
   "source": [
    "# Next steps\n",
    "\n",
    "We have investigated p-values in the context of t-tests. The p-values using t-tests rely on the assumption that the mean of our samples are random variables drawn from a normal distribution. This assumption is strong and frequently holds because it is a decorrence of the Central Limit Theorem. On top of the CLT, add a correction to the uncertainty regarding the sample variance, which leads to the Student-T distribution for the standardized T statistic calculated from the sample mean.\n",
    "\n",
    "This is a mathematically sound theory, and it delivers what is promised: we can estimate the probability of generating a sample mean at least as different from a reference value. A low probability indicates that the reference is inadequate.\n",
    "\n",
    "However, simply relying on p-values to make decisions can be tricky. As we have seen, increasing $n$ deliberately can lead to finding low $p$ values, regardless of the difference between the means we are evaluating. This is not a failure of the p-value or the t-tests: they are doing exactly what they are supposed to, which is calculating the **probability of observing our data or a more disfavorable outcome under the assumption that the null hypothesis is true**.\n",
    "\n",
    "Even if we have a very low p-value, we reject the null hypothesis and *so what*? Would a negligible difference between cupcake weights be meaningful in real life?\n",
    "\n",
    "Also, can we estimate \"how negligible\" is the observed difference between means?\n",
    "\n",
    "This is something to discuss in another post."
   ]
  },
  {
   "cell_type": "markdown",
   "metadata": {},
   "source": []
  }
 ],
 "metadata": {
  "interpreter": {
   "hash": "48a163085726af4aa892ebfc5efd6be8ee4b935d9ea37781e4f79f4457b77d39"
  },
  "kernelspec": {
   "display_name": "Python 3.7.12 ('base')",
   "language": "python",
   "name": "python3"
  },
  "language_info": {
   "codemirror_mode": {
    "name": "ipython",
    "version": 3
   },
   "file_extension": ".py",
   "mimetype": "text/x-python",
   "name": "python",
   "nbconvert_exporter": "python",
   "pygments_lexer": "ipython3",
   "version": "3.7.12"
  },
  "orig_nbformat": 4
 },
 "nbformat": 4,
 "nbformat_minor": 2
}
