{
 "cells": [
  {
   "cell_type": "markdown",
   "metadata": {},
   "source": [
    "# P-Values for A/B conversion tests and machine learning classifier comparisons using the Binomial test\n",
    "\n",
    "Website effectiveness measurement commonly uses user-centric measures such as a *conversion rate* (fraction of visitors that become effective clients) or a *click rate* (fraction of users that click or interact with something in the website). These measures must be calculated from real interactions, and each one of them is binary (representing whether the event happened).\n",
    "\n",
    "* How to manipulate and predict website interactions using statistical models and Python's scipy module,\n",
    "* How to decide if a modification in the website was effective in improving some metric.\n",
    "\n",
    "Note that binary (yes/no) interactions are a premise of everything we are going to discuss next; if you are measuring continuous variables then you are probably looking for a t-test.\n"
   ]
  },
  {
   "cell_type": "code",
   "execution_count": 3,
   "metadata": {},
   "outputs": [],
   "source": [
    "import scipy.stats as stats\n",
    "import numpy as np\n",
    "import matplotlib.pyplot as plt\n",
    "plt.style.use('default')"
   ]
  },
  {
   "cell_type": "markdown",
   "metadata": {},
   "source": [
    "\n",
    "## Users are coins - in the Bernoulli sense\n",
    "\n",
    "When we say that a conversion rate (CR) is the fraction of visitors that become clients, we are stating the frequentist equivalent of saying that CR is the probability that a visitor becomes a client, or:\n",
    "$$\n",
    "\\text{CR} = P(\\text{Conversion}) = \\frac{\\text{number of conversions}}{\\text{number of visitors}}.\n",
    "$$\n",
    "\n",
    "Each website visit has a binary outcome, outcomes do not impact each other, and the outcome depends on factors that are (in principle) unpredictable, we can model each one of these visits as the flip of a coin in which heads means \"conversion\" and tails means \"no conversion\". Moreover, each one of the outcomes is not equally likely, hence our visits can be modelled as biased coins. Consequently, we can safely use Bernoulli's experiments as mathematical equivalents of our website visits.\n",
    "\n",
    "Because each visit is equivalent to a Bernoulli trial, then the number of favorable outcomes (the number of conversions!) is modelled by a binomial with parameters $n=\\text{number of visitors}$ and $p=\\text{CR}$. Since we *know* this theoretical distribution, we can ask ourselves questions like:\n",
    "\n",
    "## If my website has $n$ visitors and a $p$ conversion rate, how many conversions should I expect (with 99% certainty)?\n",
    "\n",
    "So, we are looking for the number immediately above 99% of the accumulated probability of a binomial. Python stats solves this problem with the `ppf` method:"
   ]
  },
  {
   "cell_type": "code",
   "execution_count": 4,
   "metadata": {},
   "outputs": [
    {
     "name": "stdout",
     "output_type": "stream",
     "text": [
      "445.0\n"
     ]
    }
   ],
   "source": [
    "n = 4000\n",
    "p = 0.1\n",
    "print(stats.binom.ppf(0.99, n=n, p=p))"
   ]
  },
  {
   "cell_type": "markdown",
   "metadata": {},
   "source": [
    "Good, so for our current conversion rate we expect at most that number of conversions. This is important because then we can get our sales pipelines ready for that ammount of sales, and only miss deadlines 1% of the time.\n",
    "\n",
    "Similarly, we could assess the **probability that we have at least $k$ conversions** using the `cdf`:"
   ]
  },
  {
   "cell_type": "code",
   "execution_count": 5,
   "metadata": {},
   "outputs": [
    {
     "name": "stdout",
     "output_type": "stream",
     "text": [
      "0.376953125\n"
     ]
    }
   ],
   "source": [
    "n = 10\n",
    "p = 0.5\n",
    "k = 6\n",
    "print(1 - stats.binom.cdf(k-1, p=p, n=n))"
   ]
  },
  {
   "cell_type": "markdown",
   "metadata": {},
   "source": [
    "\n",
    "\n",
    "But, then, at some point, we want to renew our website and check if we changed our conversion rate.\n",
    "\n",
    "## Testing a new website version\n",
    "\n",
    "Our procedure to test a new website version is really simple: we will show the new website to $n$ visitors and count the number $c$ of conversions. Then, we can ask ourselves: what is the probability that our current Binomial model (made with our known $p$) generates an outcome that is at least as distant from the expected value as $c$?"
   ]
  },
  {
   "cell_type": "code",
   "execution_count": 6,
   "metadata": {},
   "outputs": [
    {
     "name": "stdout",
     "output_type": "stream",
     "text": [
      "0.024537935704591396\n"
     ]
    }
   ],
   "source": [
    "n = 50 # participants of our test\n",
    "c = 10 # number of conversions\n",
    "p = 0.1 # known value \n",
    "print(1-stats.binom.cdf(c-1, n=n, p=p))"
   ]
  },
  {
   "cell_type": "markdown",
   "metadata": {},
   "source": [
    "This probability is called the *p-value*. It is very low. However, we do know that:\n",
    "\n",
    "* We observed $c$ conversions in $n$ participants,\n",
    "* This behavior follows a Binomial distribution\n",
    "\n",
    "The only thing we can discard is that the parameter $p$ we had assumed previously adequately models the conversion rate for the new website. Hence, we will *reject the hypothesis* that $p_{\\text{new website}}=p_{\\text{old website}}$. In other words, it is safe to assume that our website modification had some effect.\n",
    "\n",
    "Well, this does not quite solve our problems, because this method cheated in the sense that it used a value for the binomial's $p$ that came out of nowhere. In practice, we almost never know this probability. \n",
    "\n",
    "## The A/B test\n",
    "\n",
    "The essential procedure in an A/B test is really simple: when a visitor logs in the website, they are randomly assigned to one of its versions (the current (A) or the new one (B)). Then, the visit is recorded in a table that mentions (at least): the visit's unique ID, the group (A or B) and if the visit lead to a conversion, like:\n",
    "\n",
    "| ID | Group | Conversion |\n",
    "|:---:|:---:|:---:|\n",
    "| 1 | A | Yes |\n",
    "| 2 | B | No | \n",
    "| 3 | A | No |\n",
    "| ... | ... | ... |\n",
    "\n",
    "We could calculate the conversion rates for each group dividing the number of conversions by the number of visits, as: $p_a = c_a/n_a$ and $p_b = c_b/n_b$. Because of the reasons we discussed previously, these probabilities can be associated with binomial distributions. Our problem, then, is to find out whether $p_a$ and $p_b$ are, in fact, different.\n",
    "\n",
    "For such, we can use the concept of p-values. If we assume that group B is associated with the same distribution as group A (that is, our null hypothesis is that $p_a=p_b$), what is the probability of observing *our data or a more disfavorable one*? In other words, we should estimate\n",
    "$$ \n",
    "P(c > c_b | p_a=p_b).\n",
    "$$\n",
    "\n",
    "Then, if this probability (our p-value) is below a significance threshold that we can choose, we can reject the hypothesis that $p_a=p_b$, meaning that our intervention had some observable (or: statistically significant) effect.\n",
    "\n",
    "As we discussed, we can calculate that probability using the cumulative distribution function, in something like:"
   ]
  },
  {
   "cell_type": "code",
   "execution_count": 7,
   "metadata": {},
   "outputs": [
    {
     "name": "stdout",
     "output_type": "stream",
     "text": [
      "0.01124897872099162\n"
     ]
    }
   ],
   "source": [
    "na = 50 # participants of our test - group a\n",
    "ca = 10 # number of conversions - group a\n",
    "nb = 100 # participants of our test - group b\n",
    "cb = 30 # number of conversions - group b\n",
    "pa = ca/na\n",
    "print(1-stats.binom.cdf(cb-1, n=nb, p=pa))"
   ]
  },
  {
   "cell_type": "markdown",
   "metadata": {},
   "source": [
    "This is called a \"Binomial test\", and can be directly calculated using an easier function directly from `scipy.stats`:"
   ]
  },
  {
   "cell_type": "code",
   "execution_count": 8,
   "metadata": {},
   "outputs": [
    {
     "name": "stdout",
     "output_type": "stream",
     "text": [
      "BinomTestResult(k=30, n=100, alternative='greater', statistic=0.3, pvalue=0.011248978720991582)\n"
     ]
    }
   ],
   "source": [
    "print(stats.binomtest(cb, n=nb, p=pa, alternative='greater'))\n",
    "# Hurray! Another blog post to explain how a tiny, tiny function works!"
   ]
  },
  {
   "cell_type": "markdown",
   "metadata": {},
   "source": [
    "# Increasing N\n",
    "\n",
    "Ok, now lets suppose we increase the number of participants in our experimental test. What happens with our p-value? Let's test!"
   ]
  },
  {
   "cell_type": "code",
   "execution_count": 9,
   "metadata": {},
   "outputs": [
    {
     "data": {
      "image/png": "[encoded data removed]",
      "text/plain": [
       "<Figure size 500x200 with 1 Axes>"
      ]
     },
     "metadata": {},
     "output_type": "display_data"
    }
   ],
   "source": [
    "pa = 0.10\n",
    "pb = 0.20\n",
    "\n",
    "p = []\n",
    "for nb in range(5, 100):\n",
    "    cb = int(nb * pb) # We cannot have non-integer conversions\n",
    "    p_ = 1-stats.binom.cdf(cb, n=nb, p=pa)\n",
    "    p.append(p_)\n",
    "\n",
    "plt.figure(figsize=(5,2))\n",
    "plt.plot(list(range(5,100)), p)\n",
    "plt.xlabel('$n_b$')\n",
    "plt.ylabel('p')\n",
    "plt.semilogy()\n",
    "plt.show()"
   ]
  },
  {
   "cell_type": "markdown",
   "metadata": {},
   "source": [
    "So we find a descending line with a ripple. This ripple is because the binomial distribution is discrete. As we can see, the ripple's absolute magnitude decreases when $n_b$ increases, that is, the ripple gets smaller as the binomial approaches the normal distribution.\n",
    "\n",
    "Another important characteristic here is that the p-value decreases when $n_b$ increases. This means that, regardless of the difference between the conversinon probabilities of the two website versions, we would be able to see a statistically significant difference if the number of participants in the test was large enough.\n",
    "\n",
    "# Another application: comparing classifiers\n",
    "\n",
    "A problem that is probably going to show up in your life if you study or work with machine learning is testing a new classifier. You are probably going to estimate a class for each element in your test set, then decide if you were right or wrong. Note that attempting a classification is equivalent to flipping a biased coin, and being correct about the classification is equivalent to obtaining heads.\n",
    "\n",
    "Hence, we could use the binomial test to detect whether the observed difference between our classifiers is statistically significant:"
   ]
  },
  {
   "cell_type": "code",
   "execution_count": 10,
   "metadata": {},
   "outputs": [
    {
     "name": "stdout",
     "output_type": "stream",
     "text": [
      "Accuracy (our system): 0.83\n",
      "p-value: 0.09256987367775582\n",
      "p-value (with scipy): 0.09256987367775588\n"
     ]
    }
   ],
   "source": [
    "p0 = 0.77 # accuracy of previous classifier, as reported in their paper\n",
    "n = 100 # number of elements in our *test set*\n",
    "c = 83 # number of correct classifications in our test set\n",
    "print(\"Accuracy (our system):\", c/n)\n",
    "print(\"p-value:\", 1-stats.binom.cdf(c-1, n=n, p=p0))\n",
    "print(\"p-value (with scipy):\", stats.binomtest(c, n=n, p=p0, alternative='greater').pvalue)"
   ]
  },
  {
   "cell_type": "markdown",
   "metadata": {},
   "source": [
    "Importantly, it is still important to consider that, if the dataset size is too large, even a small change in accuracy might be considered significant, even to a very low confidence level. Hence, it is important to check if the effect size (the difference between $n/c$ and $p$) is *relevant* to the application.\n",
    "\n",
    "# Next steps\n",
    "\n",
    "So far, I have written about two different methods to calculate p-values, and they fit different contexts. However, both of them are very sensitive to the number $n$ of elements in the sample. This is because they both refer to null hypotheses related to *parameters* of random variables, and increasing $n$ decreases the uncertainty about these parameters. Thus, p-values are weak in large datasets, but are entirely necessary in smaller ones.\n",
    "\n",
    "There are some new proposals for p-values, which I aim to investigate in the future. They claim to solve (or at least attenuate) the big data problem. Let's see how that goes!"
   ]
  },
  {
   "cell_type": "markdown",
   "metadata": {},
   "source": []
  }
 ],
 "metadata": {
  "interpreter": {
   "hash": "48a163085726af4aa892ebfc5efd6be8ee4b935d9ea37781e4f79f4457b77d39"
  },
  "kernelspec": {
   "display_name": "Python 3.7.12",
   "language": "python",
   "name": "python3"
  },
  "language_info": {
   "codemirror_mode": {
    "name": "ipython",
    "version": 3
   },
   "file_extension": ".py",
   "mimetype": "text/x-python",
   "name": "python",
   "nbconvert_exporter": "python",
   "pygments_lexer": "ipython3",
   "version": "3.11.4"
  },
  "orig_nbformat": 4
 },
 "nbformat": 4,
 "nbformat_minor": 2
}
